{
 "cells": [
  {
   "cell_type": "code",
   "execution_count": null,
   "id": "30834e8f",
   "metadata": {
    "vscode": {
     "languageId": "plaintext"
    }
   },
   "outputs": [],
   "source": [
    "import os\n",
    "import numpy as np\n",
    "import pandas as pd\n",
    "import matplotlib.pyplot as plt\n",
    "from sklearn.model_selection import train_test_split\n",
    "from sklearn.metrics import classification_report\n",
    "from tensorflow.keras.models import Sequential\n",
    "from tensorflow.keras.layers import Conv2D, MaxPooling2D, Flatten, Dense, Dropout\n",
    "from tensorflow.keras.utils import to_categorical"
   ]
  },
  {
   "cell_type": "code",
   "execution_count": null,
   "id": "0c78b97b",
   "metadata": {
    "vscode": {
     "languageId": "plaintext"
    }
   },
   "outputs": [],
   "source": [
    "def generate_dummy_images(num_samples=1000, image_size=(64, 64)):\n",
    "    X = []\n",
    "    y = []\n",
    "    for _ in range(num_samples):\n",
    "        # Malware: noisy/random pixel data\n",
    "        img = np.random.randint(0, 256, size=image_size).astype('uint8')\n",
    "        X.append(img)\n",
    "        y.append(1)\n",
    "\n",
    "        # Benign: smoother pixel data\n",
    "        benign_img = np.random.normal(loc=128, scale=30, size=image_size).clip(0, 255).astype('uint8')\n",
    "        X.append(benign_img)\n",
    "        y.append(0)\n"
   ]
  }
 ],
 "metadata": {
  "language_info": {
   "name": "python"
  }
 },
 "nbformat": 4,
 "nbformat_minor": 5
}

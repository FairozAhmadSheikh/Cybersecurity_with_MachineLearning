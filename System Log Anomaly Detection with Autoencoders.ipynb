{
 "cells": [
  {
   "cell_type": "code",
   "execution_count": null,
   "id": "32b4a7f8",
   "metadata": {
    "vscode": {
     "languageId": "plaintext"
    }
   },
   "outputs": [],
   "source": [
    "import numpy as np\n",
    "import pandas as pd\n",
    "import random\n",
    "from sklearn.model_selection import train_test_split\n",
    "from sklearn.preprocessing import MinMaxScaler\n",
    "from sklearn.metrics import classification_report\n",
    "from tensorflow.keras.models import Model\n",
    "from tensorflow.keras.layers import Input, Dense\n",
    "from tensorflow.keras import regularizers"
   ]
  },
  {
   "cell_type": "code",
   "execution_count": null,
   "id": "3a3efcf3",
   "metadata": {
    "vscode": {
     "languageId": "plaintext"
    }
   },
   "outputs": [],
   "source": [
    "def generate_log_dataset(num_samples=1000):\n",
    "    # Normal log pattern: lower entropy\n",
    "    normal_logs = [random.choices([0, 1], weights=[0.8, 0.2], k=20) for _ in range(num_samples)]\n",
    "    \n",
    "    # Anomalous logs: higher entropy / strange activity\n",
    "    anomaly_logs = [random.choices([0, 1], weights=[0.5, 0.5], k=20) for _ in range(num_samples // 5)]\n",
    "\n",
    "    X = np.array(normal_logs + anomaly_logs)\n",
    "    y = np.array([0]*len(normal_logs) + [1]*len(anomaly_logs))  # 0 = normal, 1 = anomaly\n",
    "\n",
    "    return pd.DataFrame(X), y"
   ]
  }
 ],
 "metadata": {
  "language_info": {
   "name": "python"
  }
 },
 "nbformat": 4,
 "nbformat_minor": 5
}

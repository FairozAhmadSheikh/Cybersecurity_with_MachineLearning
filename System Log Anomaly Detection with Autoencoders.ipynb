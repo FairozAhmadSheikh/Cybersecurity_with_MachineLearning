{
 "cells": [
  {
   "cell_type": "code",
   "execution_count": null,
   "id": "32b4a7f8",
   "metadata": {
    "vscode": {
     "languageId": "plaintext"
    }
   },
   "outputs": [],
   "source": [
    "import numpy as np\n",
    "import pandas as pd\n",
    "import random\n",
    "from sklearn.model_selection import train_test_split\n",
    "from sklearn.preprocessing import MinMaxScaler\n",
    "from sklearn.metrics import classification_report\n",
    "from tensorflow.keras.models import Model\n",
    "from tensorflow.keras.layers import Input, Dense\n",
    "from tensorflow.keras import regularizers"
   ]
  },
  {
   "cell_type": "code",
   "execution_count": null,
   "id": "3a3efcf3",
   "metadata": {
    "vscode": {
     "languageId": "plaintext"
    }
   },
   "outputs": [],
   "source": [
    "def generate_log_dataset(num_samples=1000):\n",
    "    # Normal log pattern: lower entropy\n",
    "    normal_logs = [random.choices([0, 1], weights=[0.8, 0.2], k=20) for _ in range(num_samples)]\n",
    "    \n",
    "    # Anomalous logs: higher entropy / strange activity\n",
    "    anomaly_logs = [random.choices([0, 1], weights=[0.5, 0.5], k=20) for _ in range(num_samples // 5)]\n",
    "\n",
    "    X = np.array(normal_logs + anomaly_logs)\n",
    "    y = np.array([0]*len(normal_logs) + [1]*len(anomaly_logs))  # 0 = normal, 1 = anomaly\n",
    "\n",
    "    return pd.DataFrame(X), y"
   ]
  },
  {
   "cell_type": "code",
   "execution_count": null,
   "id": "bf394b31",
   "metadata": {
    "vscode": {
     "languageId": "plaintext"
    }
   },
   "outputs": [],
   "source": [
    "def build_autoencoder(input_dim):\n",
    "    input_layer = Input(shape=(input_dim,))\n",
    "    encoded = Dense(16, activation=\"relu\", activity_regularizer=regularizers.l1(1e-5))(input_layer)\n",
    "    encoded = Dense(8, activation=\"relu\")(encoded)\n",
    "    decoded = Dense(16, activation='relu')(encoded)\n",
    "    output_layer = Dense(input_dim, activation='sigmoid')(decoded)\n",
    "\n",
    "    autoencoder = Model(inputs=input_layer, outputs=output_layer)\n",
    "    autoencoder.compile(optimizer='adam', loss='mse')\n",
    "    return autoencoder"
   ]
  },
  {
   "cell_type": "code",
   "execution_count": null,
   "id": "38525b4c",
   "metadata": {
    "vscode": {
     "languageId": "plaintext"
    }
   },
   "outputs": [],
   "source": [
    "def train_anomaly_detector(X, y):\n",
    "    scaler = MinMaxScaler()\n",
    "    X_scaled = scaler.fit_transform(X)\n",
    "    X_train, X_test, y_train, y_test = train_test_split(X_scaled, y, test_size=0.2, random_state=42)\n",
    "\n",
    "    # Train only on normal logs\n",
    "    X_train_normal = X_train[y_train == 0]\n",
    "    autoencoder = build_autoencoder(X.shape[1])\n",
    "    autoencoder.fit(X_train_normal, X_train_normal, epochs=20, batch_size=32, validation_split=0.1, verbose=1)\n",
    "\n",
    "    # Predict on test set\n",
    "    X_test_pred = autoencoder.predict(X_test)\n",
    "    mse = np.mean(np.power(X_test - X_test_pred, 2), axis=1)\n",
    "\n",
    "    threshold = np.percentile(mse, 95)\n",
    "    print(f\"Anomaly Threshold: {threshold:.4f}\")\n",
    "\n",
    "    y_pred = (mse > threshold).astype(int)"
   ]
  }
 ],
 "metadata": {
  "language_info": {
   "name": "python"
  }
 },
 "nbformat": 4,
 "nbformat_minor": 5
}

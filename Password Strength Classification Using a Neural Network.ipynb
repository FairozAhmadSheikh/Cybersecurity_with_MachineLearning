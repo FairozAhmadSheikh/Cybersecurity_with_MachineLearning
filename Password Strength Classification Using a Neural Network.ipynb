{
 "cells": [
  {
   "cell_type": "code",
   "execution_count": null,
   "id": "40ca18cf",
   "metadata": {
    "vscode": {
     "languageId": "plaintext"
    }
   },
   "outputs": [],
   "source": [
    "import numpy as np\n",
    "import random\n",
    "import string\n",
    "from sklearn.model_selection import train_test_split\n",
    "from sklearn.preprocessing import LabelEncoder\n",
    "from sklearn.metrics import classification_report\n",
    "from tensorflow.keras.models import Sequential\n",
    "from tensorflow.keras.layers import Embedding, LSTM, Dense, GlobalMaxPooling1D\n",
    "from tensorflow.keras.preprocessing.sequence import pad_sequences\n",
    "from tensorflow.keras.preprocessing.text import Tokenizer"
   ]
  },
  {
   "cell_type": "code",
   "execution_count": null,
   "id": "26649373",
   "metadata": {
    "vscode": {
     "languageId": "plaintext"
    }
   },
   "outputs": [],
   "source": [
    "def generate_password(strength):\n",
    "    if strength == \"weak\":\n",
    "        return ''.join(random.choices(string.ascii_lowercase, k=random.randint(4, 6)))\n",
    "    elif strength == \"medium\":\n",
    "        return ''.join(random.choices(string.ascii_letters + string.digits, k=random.randint(6, 10)))\n",
    "    elif strength == \"strong\":\n",
    "        return ''.join(random.choices(string.ascii_letters + string.digits + string.punctuation, k=random.randint(10, 16)))\n"
   ]
  },
  {
   "cell_type": "code",
   "execution_count": null,
   "id": "2b2da2cd",
   "metadata": {
    "vscode": {
     "languageId": "plaintext"
    }
   },
   "outputs": [],
   "source": [
    "def generate_dataset(n_per_class=1000):\n",
    "    passwords = []\n",
    "    labels = []\n",
    "    for _ in range(n_per_class):\n",
    "        for strength in [\"weak\", \"medium\", \"strong\"]:\n",
    "            passwords.append(generate_password(strength))\n",
    "            labels.append(strength)\n",
    "    return passwords, labels"
   ]
  },
  {
   "cell_type": "code",
   "execution_count": null,
   "id": "06f29ceb",
   "metadata": {
    "vscode": {
     "languageId": "plaintext"
    }
   },
   "outputs": [],
   "source": [
    "def preprocess_data(passwords, labels, maxlen=16):\n",
    "    tokenizer = Tokenizer(char_level=True, lower=False)\n",
    "    tokenizer.fit_on_texts(passwords)\n",
    "    X_seq = tokenizer.texts_to_sequences(passwords)\n",
    "    X_pad = pad_sequences(X_seq, maxlen=maxlen, padding='post')\n",
    "\n",
    "    label_encoder = LabelEncoder()\n",
    "    y = label_encoder.fit_transform(labels)\n",
    "\n",
    "    return X_pad, y, tokenizer, label_encoder"
   ]
  },
  {
   "cell_type": "code",
   "execution_count": null,
   "id": "31c231bf",
   "metadata": {
    "vscode": {
     "languageId": "plaintext"
    }
   },
   "outputs": [],
   "source": [
    "def build_model(vocab_size, input_length):\n",
    "    model = Sequential([\n",
    "        Embedding(input_dim=vocab_size + 1, output_dim=32, input_length=input_length),\n",
    "        LSTM(64, return_sequences=True),\n",
    "        GlobalMaxPooling1D(),\n",
    "        Dense(64, activation='relu'),\n",
    "        Dense(3, activation='softmax')  # 3 classes: weak, medium, strong\n",
    "    ])\n",
    "    model.compile(optimizer='adam', loss='sparse_categorical_crossentropy', metrics=['accuracy'])\n",
    "    return model"
   ]
  },
  {
   "cell_type": "code",
   "execution_count": null,
   "id": "42a7b7e8",
   "metadata": {
    "vscode": {
     "languageId": "plaintext"
    }
   },
   "outputs": [],
   "source": [
    "def train():\n",
    "    passwords, labels = generate_dataset()\n",
    "    X, y, tokenizer, label_encoder = preprocess_data(passwords, labels)\n",
    "\n",
    "    X_train, X_test, y_train, y_test = train_test_split(X, y, test_size=0.2, random_state=42)\n",
    "\n",
    "    model = build_model(vocab_size=len(tokenizer.word_index), input_length=X.shape[1])\n",
    "    model.fit(X_train, y_train, epochs=5, batch_size=32, validation_split=0.1, verbose=1)\n",
    "\n",
    "    y_pred = np.argmax(model.predict(X_test), axis=1)\n",
    "    print(\"\\nClassification Report:\\n\", classification_report(y_test, y_pred, target_names=label_encoder.classes_))\n"
   ]
  },
  {
   "cell_type": "code",
   "execution_count": null,
   "id": "f5a7d064",
   "metadata": {
    "vscode": {
     "languageId": "plaintext"
    }
   },
   "outputs": [],
   "source": [
    "if __name__ == \"__main__\":\n",
    "    train()"
   ]
  }
 ],
 "metadata": {
  "language_info": {
   "name": "python"
  }
 },
 "nbformat": 4,
 "nbformat_minor": 5
}

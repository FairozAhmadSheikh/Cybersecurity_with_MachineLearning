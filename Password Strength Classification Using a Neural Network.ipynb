{
 "cells": [
  {
   "cell_type": "code",
   "execution_count": null,
   "id": "40ca18cf",
   "metadata": {
    "vscode": {
     "languageId": "plaintext"
    }
   },
   "outputs": [],
   "source": [
    "import numpy as np\n",
    "import random\n",
    "import string\n",
    "from sklearn.model_selection import train_test_split\n",
    "from sklearn.preprocessing import LabelEncoder\n",
    "from sklearn.metrics import classification_report\n",
    "from tensorflow.keras.models import Sequential\n",
    "from tensorflow.keras.layers import Embedding, LSTM, Dense, GlobalMaxPooling1D\n",
    "from tensorflow.keras.preprocessing.sequence import pad_sequences\n",
    "from tensorflow.keras.preprocessing.text import Tokenizer"
   ]
  },
  {
   "cell_type": "code",
   "execution_count": null,
   "id": "26649373",
   "metadata": {
    "vscode": {
     "languageId": "plaintext"
    }
   },
   "outputs": [],
   "source": [
    "def generate_password(strength):\n",
    "    if strength == \"weak\":\n",
    "        return ''.join(random.choices(string.ascii_lowercase, k=random.randint(4, 6)))\n",
    "    elif strength == \"medium\":\n",
    "        return ''.join(random.choices(string.ascii_letters + string.digits, k=random.randint(6, 10)))\n",
    "    elif strength == \"strong\":\n",
    "        return ''.join(random.choices(string.ascii_letters + string.digits + string.punctuation, k=random.randint(10, 16)))\n"
   ]
  }
 ],
 "metadata": {
  "language_info": {
   "name": "python"
  }
 },
 "nbformat": 4,
 "nbformat_minor": 5
}

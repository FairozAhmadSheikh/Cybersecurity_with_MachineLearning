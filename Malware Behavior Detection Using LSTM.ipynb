{
 "cells": [
  {
   "cell_type": "code",
   "execution_count": null,
   "id": "35a771b2",
   "metadata": {
    "vscode": {
     "languageId": "plaintext"
    }
   },
   "outputs": [],
   "source": [
    "import numpy as np\n",
    "import random\n",
    "from sklearn.model_selection import train_test_split\n",
    "from sklearn.metrics import classification_report\n",
    "from tensorflow.keras.models import Sequential\n",
    "from tensorflow.keras.layers import Embedding, LSTM, Dense, Dropout\n"
   ]
  },
  {
   "cell_type": "code",
   "execution_count": null,
   "id": "0e40044d",
   "metadata": {
    "vscode": {
     "languageId": "plaintext"
    }
   },
   "outputs": [],
   "source": [
    "syscalls = [\n",
    "    \"open\", \"read\", \"write\", \"close\", \"exec\", \"connect\", \"accept\", \"fork\",\n",
    "    \"kill\", \"chmod\", \"chown\", \"unlink\", \"reboot\", \"mount\", \"ptrace\", \"bind\"\n",
    "]\n",
    "\n",
    "syscall_to_int = {sc: i+1 for i, sc in enumerate(syscalls)}  # 0 is reserved for padding\n"
   ]
  }
 ],
 "metadata": {
  "language_info": {
   "name": "python"
  }
 },
 "nbformat": 4,
 "nbformat_minor": 5
}

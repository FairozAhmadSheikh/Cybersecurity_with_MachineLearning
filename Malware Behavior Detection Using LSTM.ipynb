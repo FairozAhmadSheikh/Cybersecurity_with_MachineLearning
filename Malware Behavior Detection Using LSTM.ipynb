{
 "cells": [
  {
   "cell_type": "code",
   "execution_count": null,
   "id": "35a771b2",
   "metadata": {
    "vscode": {
     "languageId": "plaintext"
    }
   },
   "outputs": [],
   "source": [
    "import numpy as np\n",
    "import random\n",
    "from sklearn.model_selection import train_test_split\n",
    "from sklearn.metrics import classification_report\n",
    "from tensorflow.keras.models import Sequential\n",
    "from tensorflow.keras.layers import Embedding, LSTM, Dense, Dropout\n"
   ]
  },
  {
   "cell_type": "code",
   "execution_count": null,
   "id": "0e40044d",
   "metadata": {
    "vscode": {
     "languageId": "plaintext"
    }
   },
   "outputs": [],
   "source": [
    "syscalls = [\n",
    "    \"open\", \"read\", \"write\", \"close\", \"exec\", \"connect\", \"accept\", \"fork\",\n",
    "    \"kill\", \"chmod\", \"chown\", \"unlink\", \"reboot\", \"mount\", \"ptrace\", \"bind\"\n",
    "]\n",
    "\n",
    "syscall_to_int = {sc: i+1 for i, sc in enumerate(syscalls)}  # 0 is reserved for padding\n"
   ]
  },
  {
   "cell_type": "code",
   "execution_count": null,
   "id": "43032e7c",
   "metadata": {
    "vscode": {
     "languageId": "plaintext"
    }
   },
   "outputs": [],
   "source": [
    "def generate_sequence(is_malicious):\n",
    "    if is_malicious:\n",
    "        # Malware typically does unusual or dangerous patterns\n",
    "        pattern = [\"fork\", \"exec\", \"ptrace\", \"chmod\", \"unlink\", \"reboot\"]\n",
    "        seq = random.choices(pattern + syscalls, k=30)\n",
    "    else:\n",
    "        # Normal applications have common syscall patterns\n",
    "        pattern = [\"open\", \"read\", \"write\", \"close\", \"connect\", \"accept\"]\n",
    "        seq = random.choices(pattern + syscalls, k=30)\n",
    "\n",
    "    return [syscall_to_int[s] for s in seq]"
   ]
  },
  {
   "cell_type": "code",
   "execution_count": null,
   "id": "ec37d75f",
   "metadata": {
    "vscode": {
     "languageId": "plaintext"
    }
   },
   "outputs": [],
   "source": [
    "def generate_dataset(num_samples=1000):\n",
    "    X = []\n",
    "    y = []\n",
    "    for _ in range(num_samples):\n",
    "        X.append(generate_sequence(is_malicious=True))\n",
    "        y.append(1)\n",
    "        X.append(generate_sequence(is_malicious=False))\n",
    "        y.append(0)\n",
    "    return np.array(X), np.array(y)"
   ]
  },
  {
   "cell_type": "code",
   "execution_count": null,
   "id": "cb8c0b6d",
   "metadata": {
    "vscode": {
     "languageId": "plaintext"
    }
   },
   "outputs": [],
   "source": [
    "def build_model(vocab_size, input_length):\n",
    "    model = Sequential([\n",
    "        Embedding(input_dim=vocab_size + 1, output_dim=32, input_length=input_length),\n",
    "        LSTM(64, return_sequences=False),\n",
    "        Dropout(0.3),\n",
    "        Dense(64, activation='relu'),\n",
    "        Dense(1, activation='sigmoid')\n",
    "    ])\n",
    "    model.compile(loss='binary_crossentropy', optimizer='adam', metrics=['accuracy'])\n",
    "    return model\n"
   ]
  },
  {
   "cell_type": "code",
   "execution_count": null,
   "id": "a0dae33e",
   "metadata": {
    "vscode": {
     "languageId": "plaintext"
    }
   },
   "outputs": [],
   "source": [
    "def train():\n",
    "    X, y = generate_dataset()\n",
    "    X_train, X_test, y_train, y_test = train_test_split(X, y, test_size=0.2, random_state=42)\n",
    "\n",
    "    model = build_model(vocab_size=len(syscalls), input_length=X.shape[1])\n",
    "    model.fit(X_train, y_train, epochs=5, batch_size=32, validation_split=0.1, verbose=1)\n",
    "\n",
    "    preds = (model.predict(X_test) > 0.5).astype(int)\n",
    "    print(\"\\nClassification Report:\\n\", classification_report(y_test, preds))\n"
   ]
  },
  {
   "cell_type": "code",
   "execution_count": null,
   "id": "c072a0cc",
   "metadata": {
    "vscode": {
     "languageId": "plaintext"
    }
   },
   "outputs": [],
   "source": [
    "if __name__ == \"__main__\":\n",
    "    train()"
   ]
  }
 ],
 "metadata": {
  "language_info": {
   "name": "python"
  }
 },
 "nbformat": 4,
 "nbformat_minor": 5
}

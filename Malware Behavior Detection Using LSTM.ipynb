{
 "cells": [
  {
   "cell_type": "code",
   "execution_count": null,
   "id": "35a771b2",
   "metadata": {
    "vscode": {
     "languageId": "plaintext"
    }
   },
   "outputs": [],
   "source": [
    "import numpy as np\n",
    "import random\n",
    "from sklearn.model_selection import train_test_split\n",
    "from sklearn.metrics import classification_report\n",
    "from tensorflow.keras.models import Sequential\n",
    "from tensorflow.keras.layers import Embedding, LSTM, Dense, Dropout\n"
   ]
  },
  {
   "cell_type": "code",
   "execution_count": null,
   "id": "0e40044d",
   "metadata": {
    "vscode": {
     "languageId": "plaintext"
    }
   },
   "outputs": [],
   "source": [
    "syscalls = [\n",
    "    \"open\", \"read\", \"write\", \"close\", \"exec\", \"connect\", \"accept\", \"fork\",\n",
    "    \"kill\", \"chmod\", \"chown\", \"unlink\", \"reboot\", \"mount\", \"ptrace\", \"bind\"\n",
    "]\n",
    "\n",
    "syscall_to_int = {sc: i+1 for i, sc in enumerate(syscalls)}  # 0 is reserved for padding\n"
   ]
  },
  {
   "cell_type": "code",
   "execution_count": null,
   "id": "43032e7c",
   "metadata": {
    "vscode": {
     "languageId": "plaintext"
    }
   },
   "outputs": [],
   "source": [
    "def generate_sequence(is_malicious):\n",
    "    if is_malicious:\n",
    "        # Malware typically does unusual or dangerous patterns\n",
    "        pattern = [\"fork\", \"exec\", \"ptrace\", \"chmod\", \"unlink\", \"reboot\"]\n",
    "        seq = random.choices(pattern + syscalls, k=30)\n",
    "    else:\n",
    "        # Normal applications have common syscall patterns\n",
    "        pattern = [\"open\", \"read\", \"write\", \"close\", \"connect\", \"accept\"]\n",
    "        seq = random.choices(pattern + syscalls, k=30)\n",
    "\n",
    "    return [syscall_to_int[s] for s in seq]"
   ]
  }
 ],
 "metadata": {
  "language_info": {
   "name": "python"
  }
 },
 "nbformat": 4,
 "nbformat_minor": 5
}

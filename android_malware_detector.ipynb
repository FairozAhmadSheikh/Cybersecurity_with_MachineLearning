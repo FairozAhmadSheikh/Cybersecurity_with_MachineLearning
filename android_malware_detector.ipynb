{
 "cells": [
  {
   "cell_type": "code",
   "execution_count": null,
   "id": "be9d6a8b",
   "metadata": {
    "vscode": {
     "languageId": "plaintext"
    }
   },
   "outputs": [],
   "source": [
    "import pandas as pd\n",
    "import numpy as np\n",
    "import os\n",
    "from sklearn.ensemble import RandomForestClassifier\n",
    "from sklearn.preprocessing import LabelEncoder\n",
    "from sklearn.model_selection import train_test_split\n",
    "from sklearn.metrics import classification_report, confusion_matrix\n",
    "import joblib\n",
    "import seaborn as sns\n",
    "import matplotlib.pyplot as plt\n"
   ]
  },
  {
   "cell_type": "code",
   "execution_count": null,
   "id": "fdb08d27",
   "metadata": {
    "vscode": {
     "languageId": "plaintext"
    }
   },
   "outputs": [],
   "source": [
    "def load_dataset(path=\"apk_dataset.csv\"):\n",
    "    if not os.path.exists(path):\n",
    "        print(\"Dataset not found. Creating sample APK feature data...\")\n",
    "\n",
    "        data = {\n",
    "            \"uses_camera\": np.random.randint(0, 2, 1000),\n",
    "            \"uses_sms\": np.random.randint(0, 2, 1000),\n",
    "            \"uses_contacts\": np.random.randint(0, 2, 1000),\n",
    "            \"uses_location\": np.random.randint(0, 2, 1000),\n",
    "            \"uses_microphone\": np.random.randint(0, 2, 1000),\n",
    "            \"uses_internet\": np.random.randint(0, 2, 1000),\n",
    "            \"uses_download_manager\": np.random.randint(0, 2, 1000),\n",
    "            \"has_native_code\": np.random.randint(0, 2, 1000),\n",
    "            \"is_malware\": np.random.randint(0, 2, 1000)  # 1 = malware, 0 = safe\n",
    "        }\n",
    "\n",
    "        df = pd.DataFrame(data)\n",
    "        df.to_csv(path, index=False)\n",
    "    else:\n",
    "        df = pd.read_csv(path)\n",
    "\n",
    "    print(f\"Dataset loaded: {df.shape}\")\n",
    "    return df"
   ]
  },
  {
   "cell_type": "code",
   "execution_count": null,
   "id": "90d74add",
   "metadata": {
    "vscode": {
     "languageId": "plaintext"
    }
   },
   "outputs": [],
   "source": [
    "def preprocess(df):\n",
    "    X = df.drop(\"is_malware\", axis=1)\n",
    "    y = df[\"is_malware\"]\n",
    "    return X, y\n",
    "\n",
    "\n",
    "def train_model(X_train, y_train):\n",
    "    clf = RandomForestClassifier(n_estimators=100, random_state=42)\n",
    "    clf.fit(X_train, y_train)\n",
    "    return clf\n",
    "\n",
    "\n",
    "def evaluate(model, X_test, y_test):\n",
    "    y_pred = model.predict(X_test)\n",
    "    print(\"\\nClassification Report:\\n\", classification_report(y_test, y_pred))\n",
    "    sns.heatmap(confusion_matrix(y_test, y_pred), annot=True, fmt=\"d\", cmap=\"Greens\")\n",
    "    plt.title(\"Confusion Matrix\")\n",
    "    plt.xlabel(\"Predicted\")\n",
    "    plt.ylabel(\"Actual\")\n",
    "    plt.show()\n"
   ]
  },
  {
   "cell_type": "code",
   "execution_count": null,
   "id": "9b033072",
   "metadata": {
    "vscode": {
     "languageId": "plaintext"
    }
   },
   "outputs": [],
   "source": [
    "def save_model(model):\n",
    "    os.makedirs(\"models\", exist_ok=True)\n",
    "    joblib.dump(model, \"models/android_rf_model.pkl\")\n",
    "    print(\"Model saved to 'models/'\")\n",
    "\n",
    "\n",
    "if __name__ == \"__main__\":\n",
    "    df = load_dataset()\n",
    "    X, y = preprocess(df)\n",
    "    X_train, X_test, y_train, y_test = train_test_split(X, y, test_size=0.2, random_state=42)\n",
    "    model = train_model(X_train, y_train)\n",
    "    evaluate(model, X_test, y_test)\n",
    "    save_model(model)"
   ]
  }
 ],
 "metadata": {
  "language_info": {
   "name": "python"
  }
 },
 "nbformat": 4,
 "nbformat_minor": 5
}

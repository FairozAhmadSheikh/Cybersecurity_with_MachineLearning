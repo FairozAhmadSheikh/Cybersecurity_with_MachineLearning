{
 "cells": [
  {
   "cell_type": "code",
   "execution_count": null,
   "id": "be9d6a8b",
   "metadata": {
    "vscode": {
     "languageId": "plaintext"
    }
   },
   "outputs": [],
   "source": [
    "import pandas as pd\n",
    "import numpy as np\n",
    "import os\n",
    "from sklearn.ensemble import RandomForestClassifier\n",
    "from sklearn.preprocessing import LabelEncoder\n",
    "from sklearn.model_selection import train_test_split\n",
    "from sklearn.metrics import classification_report, confusion_matrix\n",
    "import joblib\n",
    "import seaborn as sns\n",
    "import matplotlib.pyplot as plt\n"
   ]
  },
  {
   "cell_type": "code",
   "execution_count": null,
   "id": "fdb08d27",
   "metadata": {
    "vscode": {
     "languageId": "plaintext"
    }
   },
   "outputs": [],
   "source": [
    "def load_dataset(path=\"apk_dataset.csv\"):\n",
    "    if not os.path.exists(path):\n",
    "        print(\"Dataset not found. Creating sample APK feature data...\")\n",
    "\n",
    "        data = {\n",
    "            \"uses_camera\": np.random.randint(0, 2, 1000),\n",
    "            \"uses_sms\": np.random.randint(0, 2, 1000),\n",
    "            \"uses_contacts\": np.random.randint(0, 2, 1000),\n",
    "            \"uses_location\": np.random.randint(0, 2, 1000),\n",
    "            \"uses_microphone\": np.random.randint(0, 2, 1000),\n",
    "            \"uses_internet\": np.random.randint(0, 2, 1000),\n",
    "            \"uses_download_manager\": np.random.randint(0, 2, 1000),\n",
    "            \"has_native_code\": np.random.randint(0, 2, 1000),\n",
    "            \"is_malware\": np.random.randint(0, 2, 1000)  # 1 = malware, 0 = safe\n",
    "        }\n",
    "\n",
    "        df = pd.DataFrame(data)\n",
    "        df.to_csv(path, index=False)\n",
    "    else:\n",
    "        df = pd.read_csv(path)\n",
    "\n",
    "    print(f\"Dataset loaded: {df.shape}\")\n",
    "    return df"
   ]
  }
 ],
 "metadata": {
  "language_info": {
   "name": "python"
  }
 },
 "nbformat": 4,
 "nbformat_minor": 5
}

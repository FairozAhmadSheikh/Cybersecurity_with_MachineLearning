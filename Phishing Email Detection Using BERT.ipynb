{
 "cells": [
  {
   "cell_type": "code",
   "execution_count": null,
   "id": "1ef6ded4",
   "metadata": {
    "vscode": {
     "languageId": "plaintext"
    }
   },
   "outputs": [],
   "source": [
    "import pandas as pd\n",
    "from sklearn.model_selection import train_test_split\n",
    "from sklearn.metrics import classification_report\n",
    "from transformers import BertTokenizer, TFBertForSequenceClassification\n",
    "from transformers import InputExample, InputFeatures\n",
    "import tensorflow as tf"
   ]
  },
  {
   "cell_type": "code",
   "execution_count": null,
   "id": "d3b38a4d",
   "metadata": {
    "vscode": {
     "languageId": "plaintext"
    }
   },
   "outputs": [],
   "source": [
    "def load_dataset():\n",
    "    phishing_emails = [\n",
    "        \"Your account has been compromised. Click here to reset your password immediately.\",\n",
    "        \"You've won a free iPhone! Visit this link to claim your prize.\",\n",
    "        \"Update your billing information to avoid service suspension.\",\n",
    "        \"We noticed a login attempt from an unknown device. Verify your identity now.\",\n",
    "        \"Urgent: Your account will be locked in 24 hours unless you respond.\"\n",
    "    ]"
   ]
  }
 ],
 "metadata": {
  "language_info": {
   "name": "python"
  }
 },
 "nbformat": 4,
 "nbformat_minor": 5
}

{
 "cells": [
  {
   "cell_type": "code",
   "execution_count": null,
   "id": "1ef6ded4",
   "metadata": {
    "vscode": {
     "languageId": "plaintext"
    }
   },
   "outputs": [],
   "source": [
    "import pandas as pd\n",
    "from sklearn.model_selection import train_test_split\n",
    "from sklearn.metrics import classification_report\n",
    "from transformers import BertTokenizer, TFBertForSequenceClassification\n",
    "from transformers import InputExample, InputFeatures\n",
    "import tensorflow as tf"
   ]
  },
  {
   "cell_type": "code",
   "execution_count": null,
   "id": "d3b38a4d",
   "metadata": {
    "vscode": {
     "languageId": "plaintext"
    }
   },
   "outputs": [],
   "source": [
    "def load_dataset():\n",
    "    phishing_emails = [\n",
    "        \"Your account has been compromised. Click here to reset your password immediately.\",\n",
    "        \"You've won a free iPhone! Visit this link to claim your prize.\",\n",
    "        \"Update your billing information to avoid service suspension.\",\n",
    "        \"We noticed a login attempt from an unknown device. Verify your identity now.\",\n",
    "        \"Urgent: Your account will be locked in 24 hours unless you respond.\"\n",
    "    ]\n",
    "     legitimate_emails = [\n",
    "        \"Your order has been shipped and will arrive in 3 days.\",\n",
    "        \"Thank you for your payment. Your subscription is now active.\",\n",
    "        \"Meeting scheduled for Monday at 10 AM.\",\n",
    "        \"Reminder: Project deadline is next Friday.\",\n",
    "        \"Welcome to our service! Let us know if you need any help.\"\n",
    "    ]"
   ]
  },
  {
   "cell_type": "code",
   "execution_count": null,
   "id": "c3eb5fd6",
   "metadata": {
    "vscode": {
     "languageId": "plaintext"
    }
   },
   "outputs": [],
   "source": [
    "texts = phishing_emails * 100 + legitimate_emails * 100\n",
    "    labels = [1]*len(phishing_emails)*100 + [0]*len(legitimate_emails)*100\n",
    "\n",
    "    return pd.DataFrame({'text': texts, 'label': labels})"
   ]
  },
  {
   "cell_type": "code",
   "execution_count": null,
   "id": "66fc868e",
   "metadata": {
    "vscode": {
     "languageId": "plaintext"
    }
   },
   "outputs": [],
   "source": [
    "def convert_to_examples(df):\n",
    "    return df.apply(lambda x: InputExample(guid=None,\n",
    "                                           text_a=x['text'],\n",
    "                                           text_b=None,\n",
    "                                           label=x['label']), axis=1)"
   ]
  }
 ],
 "metadata": {
  "language_info": {
   "name": "python"
  }
 },
 "nbformat": 4,
 "nbformat_minor": 5
}

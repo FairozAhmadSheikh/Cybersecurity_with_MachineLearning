{
 "cells": [
  {
   "cell_type": "markdown",
   "id": "32079246",
   "metadata": {},
   "source": [
    "!pip install ultralytics opencv-python matplotlib\n"
   ]
  },
  {
   "cell_type": "code",
   "execution_count": null,
   "id": "e97d23ff",
   "metadata": {
    "vscode": {
     "languageId": "plaintext"
    }
   },
   "outputs": [],
   "source": [
    "import cv2\n",
    "from ultralytics import YOLO\n",
    "import matplotlib.pyplot as plt\n",
    "from IPython.display import display, clear_output\n",
    "import torch\n"
   ]
  },
  {
   "cell_type": "code",
   "execution_count": null,
   "id": "6a64117c",
   "metadata": {
    "vscode": {
     "languageId": "plaintext"
    }
   },
   "outputs": [],
   "source": [
    "model = YOLO(\"yolov8s.pt\")  # You can  also use 'yolov8n.pt' for faster performance"
   ]
  },
  {
   "cell_type": "code",
   "execution_count": null,
   "id": "d402278b",
   "metadata": {
    "vscode": {
     "languageId": "plaintext"
    }
   },
   "outputs": [],
   "source": [
    "# Open webcam\n",
    "cap = cv2.VideoCapture(0)\n",
    "\n",
    "if not cap.isOpened():\n",
    "    print(\"Failed to open webcam.\")\n",
    "else:\n",
    "    print(\"Press 'q' to quit.\")\n",
    "    while True:\n",
    "        ret, frame = cap.read()\n",
    "        if not ret:\n",
    "            break\n",
    "\n",
    "        # Run YOLOv8 inference\n",
    "        results = model(frame)\n",
    "\n",
    "        # Annotate frame\n",
    "        annotated_frame = results[0].plot()\n",
    "\n",
    "        # Show frame\n",
    "        cv2.imshow(\"YOLOv8 Real-Time Detection\", annotated_frame)\n",
    "\n",
    "        # Exit on 'q' key\n",
    "        if cv2.waitKey(1) & 0xFF == ord('q'):\n",
    "            break\n",
    "\n",
    "cap.release()\n",
    "cv2.destroyAllWindows()\n"
   ]
  },
  {
   "cell_type": "code",
   "execution_count": null,
   "id": "3b304360",
   "metadata": {
    "vscode": {
     "languageId": "plaintext"
    }
   },
   "outputs": [],
   "source": [
    "from google.colab import files\n",
    "uploaded = files.upload()\n",
    "# Example: if image is named 'image.jpg'\n",
    "img_path = list(uploaded.keys())[0]"
   ]
  }
 ],
 "metadata": {
  "language_info": {
   "name": "python"
  }
 },
 "nbformat": 4,
 "nbformat_minor": 5
}

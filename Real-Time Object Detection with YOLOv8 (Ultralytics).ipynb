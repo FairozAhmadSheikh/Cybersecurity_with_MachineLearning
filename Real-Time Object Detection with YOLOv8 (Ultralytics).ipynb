{
 "cells": [
  {
   "cell_type": "markdown",
   "id": "32079246",
   "metadata": {},
   "source": [
    "!pip install ultralytics opencv-python matplotlib\n"
   ]
  },
  {
   "cell_type": "code",
   "execution_count": null,
   "id": "e97d23ff",
   "metadata": {
    "vscode": {
     "languageId": "plaintext"
    }
   },
   "outputs": [],
   "source": [
    "import cv2\n",
    "from ultralytics import YOLO\n",
    "import matplotlib.pyplot as plt\n",
    "from IPython.display import display, clear_output\n",
    "import torch\n"
   ]
  },
  {
   "cell_type": "code",
   "execution_count": null,
   "id": "6a64117c",
   "metadata": {
    "vscode": {
     "languageId": "plaintext"
    }
   },
   "outputs": [],
   "source": [
    "model = YOLO(\"yolov8s.pt\")  # You can use 'yolov8n.pt' for faster performance"
   ]
  }
 ],
 "metadata": {
  "language_info": {
   "name": "python"
  }
 },
 "nbformat": 4,
 "nbformat_minor": 5
}

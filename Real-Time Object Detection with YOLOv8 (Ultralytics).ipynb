{
 "cells": [
  {
   "cell_type": "markdown",
   "id": "32079246",
   "metadata": {},
   "source": [
    "!pip install ultralytics opencv-python matplotlib\n"
   ]
  },
  {
   "cell_type": "code",
   "execution_count": null,
   "id": "e97d23ff",
   "metadata": {
    "vscode": {
     "languageId": "plaintext"
    }
   },
   "outputs": [],
   "source": []
  }
 ],
 "metadata": {
  "language_info": {
   "name": "python"
  }
 },
 "nbformat": 4,
 "nbformat_minor": 5
}

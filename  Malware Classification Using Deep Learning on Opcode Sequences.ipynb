{
 "cells": [
  {
   "cell_type": "code",
   "execution_count": null,
   "id": "94d5b173",
   "metadata": {
    "vscode": {
     "languageId": "plaintext"
    }
   },
   "outputs": [],
   "source": [
    "import numpy as np\n",
    "import pandas as pd\n",
    "import os\n",
    "from sklearn.preprocessing import LabelEncoder\n",
    "from sklearn.model_selection import train_test_split\n",
    "from tensorflow.keras.models import Sequential\n",
    "from tensorflow.keras.layers import Embedding, LSTM, Dense, SpatialDropout1D\n",
    "from tensorflow.keras.preprocessing.text import Tokenizer\n",
    "from tensorflow.keras.preprocessing.sequence import pad_sequences\n",
    "from sklearn.metrics import classification_report\n"
   ]
  },
  {
   "cell_type": "code",
   "execution_count": null,
   "id": "6e3e199c",
   "metadata": {
    "vscode": {
     "languageId": "plaintext"
    }
   },
   "outputs": [],
   "source": [
    "def generate_sample_dataset():\n",
    "    malware = [\n",
    "        \"mov push pop call mov xor ret\",\n",
    "        \"jmp call xor xor mov ret\",\n",
    "        \"push mov xor add sub call jmp ret\",\n",
    "        \"jmp xor xor xor xor xor ret\",\n",
    "        \"push call mov add ret\"\n",
    "    ]\n",
    "\n",
    "    benign = [\n",
    "        \"mov add sub cmp jne ret\",\n",
    "        \"mov push call add ret\",\n",
    "        \"add mov cmp jne jmp ret\",\n",
    "        \"mov push add cmp jz ret\",\n",
    "        \"sub add cmp je ret\"\n",
    "    ]\n",
    "\n",
    "    data = malware * 200 + benign * 200\n",
    "    labels = [1]*len(malware)*200 + [0]*len(benign)*200\n",
    "    return pd.DataFrame({\"opcode\": data, \"label\": labels})\n",
    "\n",
    "def preprocess_data(df, max_len=20):\n",
    "    tokenizer = Tokenizer()\n",
    "    tokenizer.fit_on_texts(df[\"opcode\"])\n",
    "    sequences = tokenizer.texts_to_sequences(df[\"opcode\"])\n",
    "    padded = pad_sequences(sequences, maxlen=max_len)\n",
    "\n",
    "    X = padded\n",
    "    y = np.array(df[\"label\"])\n",
    "\n",
    "    vocab_size = len(tokenizer.word_index) + 1\n",
    "    return X, y, vocab_size, tokenizer\n",
    "\n",
    "# Building LSTM Now\n",
    "\n",
    "def build_model(input_length, vocab_size):\n",
    "    model = Sequential([\n",
    "        Embedding(vocab_size, 64, input_length=input_length),\n",
    "        SpatialDropout1D(0.2),\n",
    "        LSTM(64, dropout=0.2, recurrent_dropout=0.2),\n",
    "        Dense(32, activation='relu'),\n",
    "        Dense(1, activation='sigmoid')\n",
    "    ])\n",
    "    model.compile(loss='binary_crossentropy', optimizer='adam', metrics=['accuracy'])\n",
    "    return model"
   ]
  },
  {
   "cell_type": "code",
   "execution_count": null,
   "id": "043e47fb",
   "metadata": {
    "vscode": {
     "languageId": "plaintext"
    }
   },
   "outputs": [],
   "source": [
    "def train_model(X, y, vocab_size):\n",
    "    X_train, X_test, y_train, y_test = train_test_split(X, y, test_size=0.2, random_state=42)\n",
    "\n",
    "    model = build_model(X.shape[1], vocab_size)\n",
    "    model.fit(X_train, y_train, epochs=10, batch_size=32, validation_split=0.1, verbose=1)\n",
    "\n",
    "    y_pred = (model.predict(X_test) > 0.5).astype(int)\n",
    "    print(\"\\nClassification Report:\\n\", classification_report(y_test, y_pred))\n",
    "    model.save(\"models/malware_lstm_model.h5\")\n",
    "    print(\"Model saved.\")"
   ]
  },
  {
   "cell_type": "code",
   "execution_count": null,
   "id": "611ef51a",
   "metadata": {
    "vscode": {
     "languageId": "plaintext"
    }
   },
   "outputs": [],
   "source": [
    "if __name__ == \"__main__\":\n",
    "    df = generate_sample_dataset()\n",
    "    X, y, vocab_size, tokenizer = preprocess_data(df)\n",
    "    train_model(X, y, vocab_size)"
   ]
  }
 ],
 "metadata": {
  "language_info": {
   "name": "python"
  }
 },
 "nbformat": 4,
 "nbformat_minor": 5
}

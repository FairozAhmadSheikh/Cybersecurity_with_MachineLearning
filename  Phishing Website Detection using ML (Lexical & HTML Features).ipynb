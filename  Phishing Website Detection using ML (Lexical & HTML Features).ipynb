{
 "cells": [
  {
   "cell_type": "code",
   "execution_count": null,
   "id": "6ce7b256",
   "metadata": {
    "vscode": {
     "languageId": "plaintext"
    }
   },
   "outputs": [],
   "source": [
    "import pandas as pd\n",
    "import numpy as np\n",
    "import re\n",
    "import os\n",
    "from sklearn.ensemble import RandomForestClassifier\n",
    "from sklearn.preprocessing import MinMaxScaler\n",
    "from sklearn.model_selection import train_test_split\n",
    "from sklearn.metrics import classification_report, confusion_matrix\n",
    "import joblib\n",
    "import seaborn as sns\n",
    "import matplotlib.pyplot as plt"
   ]
  },
  {
   "cell_type": "code",
   "execution_count": null,
   "id": "efbfe65e",
   "metadata": {
    "vscode": {
     "languageId": "plaintext"
    }
   },
   "outputs": [],
   "source": [
    "def extract_features(sample):\n",
    "    url = sample['url']\n",
    "    html = sample['html_code']\n",
    "\n",
    "    features = {\n",
    "        \"url_length\": len(url),\n",
    "        \"has_ip\": 1 if re.search(r\"\\d+\\.\\d+\\.\\d+\\.\\d+\", url) else 0,\n",
    "        \"has_https\": 1 if url.startswith(\"https://\") else 0,\n",
    "        \"count_dots\": url.count('.'),\n",
    "        \"count_at\": url.count('@'),\n",
    "        \"has_iframe\": 1 if \"<iframe\" in html.lower() else 0,\n",
    "        \"has_onclick\": 1 if \"onclick=\" in html.lower() else 0,\n",
    "        \"has_form\": 1 if \"<form\" in html.lower() else 0,\n",
    "        \"has_mailto\": 1 if \"mailto:\" in html.lower() else 0,\n",
    "        \"script_count\": html.lower().count(\"<script\")\n",
    "    }\n",
    "\n",
    "    return list(features.values())\n"
   ]
  }
 ],
 "metadata": {
  "language_info": {
   "name": "python"
  }
 },
 "nbformat": 4,
 "nbformat_minor": 5
}

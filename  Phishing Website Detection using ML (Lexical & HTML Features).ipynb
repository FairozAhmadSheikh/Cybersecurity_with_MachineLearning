{
 "cells": [
  {
   "cell_type": "code",
   "execution_count": null,
   "id": "6ce7b256",
   "metadata": {
    "vscode": {
     "languageId": "plaintext"
    }
   },
   "outputs": [],
   "source": [
    "import pandas as pd\n",
    "import numpy as np\n",
    "import re\n",
    "import os\n",
    "from sklearn.ensemble import RandomForestClassifier\n",
    "from sklearn.preprocessing import MinMaxScaler\n",
    "from sklearn.model_selection import train_test_split\n",
    "from sklearn.metrics import classification_report, confusion_matrix\n",
    "import joblib\n",
    "import seaborn as sns\n",
    "import matplotlib.pyplot as plt"
   ]
  },
  {
   "cell_type": "code",
   "execution_count": null,
   "id": "efbfe65e",
   "metadata": {
    "vscode": {
     "languageId": "plaintext"
    }
   },
   "outputs": [],
   "source": [
    "def extract_features(sample):\n",
    "    url = sample['url']\n",
    "    html = sample['html_code']\n",
    "\n",
    "    features = {\n",
    "        \"url_length\": len(url),\n",
    "        \"has_ip\": 1 if re.search(r\"\\d+\\.\\d+\\.\\d+\\.\\d+\", url) else 0,\n",
    "        \"has_https\": 1 if url.startswith(\"https://\") else 0,\n",
    "        \"count_dots\": url.count('.'),\n",
    "        \"count_at\": url.count('@'),\n",
    "        \"has_iframe\": 1 if \"<iframe\" in html.lower() else 0,\n",
    "        \"has_onclick\": 1 if \"onclick=\" in html.lower() else 0,\n",
    "        \"has_form\": 1 if \"<form\" in html.lower() else 0,\n",
    "        \"has_mailto\": 1 if \"mailto:\" in html.lower() else 0,\n",
    "        \"script_count\": html.lower().count(\"<script\")\n",
    "    }\n",
    "\n",
    "    return list(features.values())\n"
   ]
  },
  {
   "cell_type": "code",
   "execution_count": null,
   "id": "7276456f",
   "metadata": {
    "vscode": {
     "languageId": "plaintext"
    }
   },
   "outputs": [],
   "source": [
    "def load_dataset(path=\"phishing_dataset.csv\"):\n",
    "    if not os.path.exists(path):\n",
    "        print(\"Creating sample phishing dataset...\")\n",
    "\n",
    "        samples = [\n",
    "            {\"url\": \"http://malicious.ru/login\", \"html_code\": \"<html><form action='steal'><input type='text'><iframe src='bad'></iframe></form>\"},\n",
    "            {\"url\": \"https://google.com\", \"html_code\": \"<html><form action='/search'></form>\"},\n",
    "            {\"url\": \"http://192.168.1.5/pay\", \"html_code\": \"<html><form><input type='password'></form><script>evil()</script>\"},\n",
    "            {\"url\": \"https://secure.paypal.com\", \"html_code\": \"<html><form><input></form></html>\"},\n",
    "            {\"url\": \"http://login.micr0soft-support.net\", \"html_code\": \"<html><iframe src='http://evil.com'></iframe><script>alert('hi')</script></html>\"},\n",
    "            {\"url\": \"https://example.com/about\", \"html_code\": \"<html><h1>About Us</h1></html>\"},\n",
    "        ]\n",
    "\n",
    "        labels = [1, 0, 1, 0, 1, 0]  # 1 = phishing, 0 = safe\n",
    "\n",
    "        data = [extract_features(s) + [label] for s, label in zip(samples * 100, labels * 100)]\n",
    "        columns = [\n",
    "            \"url_length\", \"has_ip\", \"has_https\", \"count_dots\", \"count_at\",\n",
    "            \"has_iframe\", \"has_onclick\", \"has_form\", \"has_mailto\", \"script_count\", \"is_phishing\"\n",
    "        ]\n",
    "\n",
    "        df = pd.DataFrame(data, columns=columns)\n",
    "        df.to_csv(path, index=False)\n",
    "    else:\n",
    "        df = pd.read_csv(path)\n",
    "\n",
    "    print(f\"Dataset loaded: {df.shape}\")\n",
    "    return df"
   ]
  }
 ],
 "metadata": {
  "language_info": {
   "name": "python"
  }
 },
 "nbformat": 4,
 "nbformat_minor": 5
}
